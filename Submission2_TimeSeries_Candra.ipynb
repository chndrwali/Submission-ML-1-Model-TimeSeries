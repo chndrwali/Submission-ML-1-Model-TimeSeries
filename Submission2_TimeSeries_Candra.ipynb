{
  "nbformat": 4,
  "nbformat_minor": 0,
  "metadata": {
    "colab": {
      "provenance": [],
      "gpuType": "T4"
    },
    "kernelspec": {
      "name": "python3",
      "display_name": "Python 3"
    },
    "language_info": {
      "name": "python"
    },
    "accelerator": "GPU"
  },
  "cells": [
    {
      "cell_type": "markdown",
      "source": [
        "# Submission 2 Membuat Model Machine Learning dengan Data Time Series"
      ],
      "metadata": {
        "id": "uj0Tyj1vNq6C"
      }
    },
    {
      "cell_type": "code",
      "execution_count": 60,
      "metadata": {
        "id": "_TC3x4wVFDBa"
      },
      "outputs": [],
      "source": [
        "import numpy as np\n",
        "import pandas as pd\n",
        "import matplotlib.pyplot as plt\n",
        "import tensorflow as tf\n",
        "from keras.layers import Dense, LSTM\n",
        "from sklearn.preprocessing import MinMaxScaler\n",
        "from sklearn.model_selection import train_test_split"
      ]
    },
    {
      "cell_type": "code",
      "source": [
        "dataset = pd.read_csv('/content/AMZN_2006-01-01_to_2018-01-01.csv')\n",
        "dataset"
      ],
      "metadata": {
        "colab": {
          "base_uri": "https://localhost:8080/",
          "height": 424
        },
        "id": "ezkm9Mf4JquD",
        "outputId": "f352bd9c-c1e0-4dd3-b22e-c60d85c86c43"
      },
      "execution_count": 61,
      "outputs": [
        {
          "output_type": "execute_result",
          "data": {
            "text/plain": [
              "            Date     Open     High      Low    Close   Volume  Name\n",
              "0     2006-01-03    47.47    47.85    46.25    47.58  7582127  AMZN\n",
              "1     2006-01-04    47.48    47.73    46.69    47.25  7440914  AMZN\n",
              "2     2006-01-05    47.16    48.20    47.11    47.65  5417258  AMZN\n",
              "3     2006-01-06    47.97    48.58    47.32    47.87  6154285  AMZN\n",
              "4     2006-01-09    46.55    47.10    46.40    47.08  8945056  AMZN\n",
              "...          ...      ...      ...      ...      ...      ...   ...\n",
              "3014  2017-12-22  1172.08  1174.62  1167.83  1168.36  1585054  AMZN\n",
              "3015  2017-12-26  1168.36  1178.32  1160.55  1176.76  2005187  AMZN\n",
              "3016  2017-12-27  1179.91  1187.29  1175.61  1182.26  1867208  AMZN\n",
              "3017  2017-12-28  1189.00  1190.10  1184.38  1186.10  1841676  AMZN\n",
              "3018  2017-12-29  1182.35  1184.00  1167.50  1169.47  2688391  AMZN\n",
              "\n",
              "[3019 rows x 7 columns]"
            ],
            "text/html": [
              "\n",
              "  <div id=\"df-3f32a67e-40c1-4017-896a-0faaf1f0a13d\" class=\"colab-df-container\">\n",
              "    <div>\n",
              "<style scoped>\n",
              "    .dataframe tbody tr th:only-of-type {\n",
              "        vertical-align: middle;\n",
              "    }\n",
              "\n",
              "    .dataframe tbody tr th {\n",
              "        vertical-align: top;\n",
              "    }\n",
              "\n",
              "    .dataframe thead th {\n",
              "        text-align: right;\n",
              "    }\n",
              "</style>\n",
              "<table border=\"1\" class=\"dataframe\">\n",
              "  <thead>\n",
              "    <tr style=\"text-align: right;\">\n",
              "      <th></th>\n",
              "      <th>Date</th>\n",
              "      <th>Open</th>\n",
              "      <th>High</th>\n",
              "      <th>Low</th>\n",
              "      <th>Close</th>\n",
              "      <th>Volume</th>\n",
              "      <th>Name</th>\n",
              "    </tr>\n",
              "  </thead>\n",
              "  <tbody>\n",
              "    <tr>\n",
              "      <th>0</th>\n",
              "      <td>2006-01-03</td>\n",
              "      <td>47.47</td>\n",
              "      <td>47.85</td>\n",
              "      <td>46.25</td>\n",
              "      <td>47.58</td>\n",
              "      <td>7582127</td>\n",
              "      <td>AMZN</td>\n",
              "    </tr>\n",
              "    <tr>\n",
              "      <th>1</th>\n",
              "      <td>2006-01-04</td>\n",
              "      <td>47.48</td>\n",
              "      <td>47.73</td>\n",
              "      <td>46.69</td>\n",
              "      <td>47.25</td>\n",
              "      <td>7440914</td>\n",
              "      <td>AMZN</td>\n",
              "    </tr>\n",
              "    <tr>\n",
              "      <th>2</th>\n",
              "      <td>2006-01-05</td>\n",
              "      <td>47.16</td>\n",
              "      <td>48.20</td>\n",
              "      <td>47.11</td>\n",
              "      <td>47.65</td>\n",
              "      <td>5417258</td>\n",
              "      <td>AMZN</td>\n",
              "    </tr>\n",
              "    <tr>\n",
              "      <th>3</th>\n",
              "      <td>2006-01-06</td>\n",
              "      <td>47.97</td>\n",
              "      <td>48.58</td>\n",
              "      <td>47.32</td>\n",
              "      <td>47.87</td>\n",
              "      <td>6154285</td>\n",
              "      <td>AMZN</td>\n",
              "    </tr>\n",
              "    <tr>\n",
              "      <th>4</th>\n",
              "      <td>2006-01-09</td>\n",
              "      <td>46.55</td>\n",
              "      <td>47.10</td>\n",
              "      <td>46.40</td>\n",
              "      <td>47.08</td>\n",
              "      <td>8945056</td>\n",
              "      <td>AMZN</td>\n",
              "    </tr>\n",
              "    <tr>\n",
              "      <th>...</th>\n",
              "      <td>...</td>\n",
              "      <td>...</td>\n",
              "      <td>...</td>\n",
              "      <td>...</td>\n",
              "      <td>...</td>\n",
              "      <td>...</td>\n",
              "      <td>...</td>\n",
              "    </tr>\n",
              "    <tr>\n",
              "      <th>3014</th>\n",
              "      <td>2017-12-22</td>\n",
              "      <td>1172.08</td>\n",
              "      <td>1174.62</td>\n",
              "      <td>1167.83</td>\n",
              "      <td>1168.36</td>\n",
              "      <td>1585054</td>\n",
              "      <td>AMZN</td>\n",
              "    </tr>\n",
              "    <tr>\n",
              "      <th>3015</th>\n",
              "      <td>2017-12-26</td>\n",
              "      <td>1168.36</td>\n",
              "      <td>1178.32</td>\n",
              "      <td>1160.55</td>\n",
              "      <td>1176.76</td>\n",
              "      <td>2005187</td>\n",
              "      <td>AMZN</td>\n",
              "    </tr>\n",
              "    <tr>\n",
              "      <th>3016</th>\n",
              "      <td>2017-12-27</td>\n",
              "      <td>1179.91</td>\n",
              "      <td>1187.29</td>\n",
              "      <td>1175.61</td>\n",
              "      <td>1182.26</td>\n",
              "      <td>1867208</td>\n",
              "      <td>AMZN</td>\n",
              "    </tr>\n",
              "    <tr>\n",
              "      <th>3017</th>\n",
              "      <td>2017-12-28</td>\n",
              "      <td>1189.00</td>\n",
              "      <td>1190.10</td>\n",
              "      <td>1184.38</td>\n",
              "      <td>1186.10</td>\n",
              "      <td>1841676</td>\n",
              "      <td>AMZN</td>\n",
              "    </tr>\n",
              "    <tr>\n",
              "      <th>3018</th>\n",
              "      <td>2017-12-29</td>\n",
              "      <td>1182.35</td>\n",
              "      <td>1184.00</td>\n",
              "      <td>1167.50</td>\n",
              "      <td>1169.47</td>\n",
              "      <td>2688391</td>\n",
              "      <td>AMZN</td>\n",
              "    </tr>\n",
              "  </tbody>\n",
              "</table>\n",
              "<p>3019 rows × 7 columns</p>\n",
              "</div>\n",
              "    <div class=\"colab-df-buttons\">\n",
              "\n",
              "  <div class=\"colab-df-container\">\n",
              "    <button class=\"colab-df-convert\" onclick=\"convertToInteractive('df-3f32a67e-40c1-4017-896a-0faaf1f0a13d')\"\n",
              "            title=\"Convert this dataframe to an interactive table.\"\n",
              "            style=\"display:none;\">\n",
              "\n",
              "  <svg xmlns=\"http://www.w3.org/2000/svg\" height=\"24px\" viewBox=\"0 -960 960 960\">\n",
              "    <path d=\"M120-120v-720h720v720H120Zm60-500h600v-160H180v160Zm220 220h160v-160H400v160Zm0 220h160v-160H400v160ZM180-400h160v-160H180v160Zm440 0h160v-160H620v160ZM180-180h160v-160H180v160Zm440 0h160v-160H620v160Z\"/>\n",
              "  </svg>\n",
              "    </button>\n",
              "\n",
              "  <style>\n",
              "    .colab-df-container {\n",
              "      display:flex;\n",
              "      gap: 12px;\n",
              "    }\n",
              "\n",
              "    .colab-df-convert {\n",
              "      background-color: #E8F0FE;\n",
              "      border: none;\n",
              "      border-radius: 50%;\n",
              "      cursor: pointer;\n",
              "      display: none;\n",
              "      fill: #1967D2;\n",
              "      height: 32px;\n",
              "      padding: 0 0 0 0;\n",
              "      width: 32px;\n",
              "    }\n",
              "\n",
              "    .colab-df-convert:hover {\n",
              "      background-color: #E2EBFA;\n",
              "      box-shadow: 0px 1px 2px rgba(60, 64, 67, 0.3), 0px 1px 3px 1px rgba(60, 64, 67, 0.15);\n",
              "      fill: #174EA6;\n",
              "    }\n",
              "\n",
              "    .colab-df-buttons div {\n",
              "      margin-bottom: 4px;\n",
              "    }\n",
              "\n",
              "    [theme=dark] .colab-df-convert {\n",
              "      background-color: #3B4455;\n",
              "      fill: #D2E3FC;\n",
              "    }\n",
              "\n",
              "    [theme=dark] .colab-df-convert:hover {\n",
              "      background-color: #434B5C;\n",
              "      box-shadow: 0px 1px 3px 1px rgba(0, 0, 0, 0.15);\n",
              "      filter: drop-shadow(0px 1px 2px rgba(0, 0, 0, 0.3));\n",
              "      fill: #FFFFFF;\n",
              "    }\n",
              "  </style>\n",
              "\n",
              "    <script>\n",
              "      const buttonEl =\n",
              "        document.querySelector('#df-3f32a67e-40c1-4017-896a-0faaf1f0a13d button.colab-df-convert');\n",
              "      buttonEl.style.display =\n",
              "        google.colab.kernel.accessAllowed ? 'block' : 'none';\n",
              "\n",
              "      async function convertToInteractive(key) {\n",
              "        const element = document.querySelector('#df-3f32a67e-40c1-4017-896a-0faaf1f0a13d');\n",
              "        const dataTable =\n",
              "          await google.colab.kernel.invokeFunction('convertToInteractive',\n",
              "                                                    [key], {});\n",
              "        if (!dataTable) return;\n",
              "\n",
              "        const docLinkHtml = 'Like what you see? Visit the ' +\n",
              "          '<a target=\"_blank\" href=https://colab.research.google.com/notebooks/data_table.ipynb>data table notebook</a>'\n",
              "          + ' to learn more about interactive tables.';\n",
              "        element.innerHTML = '';\n",
              "        dataTable['output_type'] = 'display_data';\n",
              "        await google.colab.output.renderOutput(dataTable, element);\n",
              "        const docLink = document.createElement('div');\n",
              "        docLink.innerHTML = docLinkHtml;\n",
              "        element.appendChild(docLink);\n",
              "      }\n",
              "    </script>\n",
              "  </div>\n",
              "\n",
              "\n",
              "<div id=\"df-4e3fe4ad-5396-4f1a-9c58-3c8fd0e814d0\">\n",
              "  <button class=\"colab-df-quickchart\" onclick=\"quickchart('df-4e3fe4ad-5396-4f1a-9c58-3c8fd0e814d0')\"\n",
              "            title=\"Suggest charts\"\n",
              "            style=\"display:none;\">\n",
              "\n",
              "<svg xmlns=\"http://www.w3.org/2000/svg\" height=\"24px\"viewBox=\"0 0 24 24\"\n",
              "     width=\"24px\">\n",
              "    <g>\n",
              "        <path d=\"M19 3H5c-1.1 0-2 .9-2 2v14c0 1.1.9 2 2 2h14c1.1 0 2-.9 2-2V5c0-1.1-.9-2-2-2zM9 17H7v-7h2v7zm4 0h-2V7h2v10zm4 0h-2v-4h2v4z\"/>\n",
              "    </g>\n",
              "</svg>\n",
              "  </button>\n",
              "\n",
              "<style>\n",
              "  .colab-df-quickchart {\n",
              "      --bg-color: #E8F0FE;\n",
              "      --fill-color: #1967D2;\n",
              "      --hover-bg-color: #E2EBFA;\n",
              "      --hover-fill-color: #174EA6;\n",
              "      --disabled-fill-color: #AAA;\n",
              "      --disabled-bg-color: #DDD;\n",
              "  }\n",
              "\n",
              "  [theme=dark] .colab-df-quickchart {\n",
              "      --bg-color: #3B4455;\n",
              "      --fill-color: #D2E3FC;\n",
              "      --hover-bg-color: #434B5C;\n",
              "      --hover-fill-color: #FFFFFF;\n",
              "      --disabled-bg-color: #3B4455;\n",
              "      --disabled-fill-color: #666;\n",
              "  }\n",
              "\n",
              "  .colab-df-quickchart {\n",
              "    background-color: var(--bg-color);\n",
              "    border: none;\n",
              "    border-radius: 50%;\n",
              "    cursor: pointer;\n",
              "    display: none;\n",
              "    fill: var(--fill-color);\n",
              "    height: 32px;\n",
              "    padding: 0;\n",
              "    width: 32px;\n",
              "  }\n",
              "\n",
              "  .colab-df-quickchart:hover {\n",
              "    background-color: var(--hover-bg-color);\n",
              "    box-shadow: 0 1px 2px rgba(60, 64, 67, 0.3), 0 1px 3px 1px rgba(60, 64, 67, 0.15);\n",
              "    fill: var(--button-hover-fill-color);\n",
              "  }\n",
              "\n",
              "  .colab-df-quickchart-complete:disabled,\n",
              "  .colab-df-quickchart-complete:disabled:hover {\n",
              "    background-color: var(--disabled-bg-color);\n",
              "    fill: var(--disabled-fill-color);\n",
              "    box-shadow: none;\n",
              "  }\n",
              "\n",
              "  .colab-df-spinner {\n",
              "    border: 2px solid var(--fill-color);\n",
              "    border-color: transparent;\n",
              "    border-bottom-color: var(--fill-color);\n",
              "    animation:\n",
              "      spin 1s steps(1) infinite;\n",
              "  }\n",
              "\n",
              "  @keyframes spin {\n",
              "    0% {\n",
              "      border-color: transparent;\n",
              "      border-bottom-color: var(--fill-color);\n",
              "      border-left-color: var(--fill-color);\n",
              "    }\n",
              "    20% {\n",
              "      border-color: transparent;\n",
              "      border-left-color: var(--fill-color);\n",
              "      border-top-color: var(--fill-color);\n",
              "    }\n",
              "    30% {\n",
              "      border-color: transparent;\n",
              "      border-left-color: var(--fill-color);\n",
              "      border-top-color: var(--fill-color);\n",
              "      border-right-color: var(--fill-color);\n",
              "    }\n",
              "    40% {\n",
              "      border-color: transparent;\n",
              "      border-right-color: var(--fill-color);\n",
              "      border-top-color: var(--fill-color);\n",
              "    }\n",
              "    60% {\n",
              "      border-color: transparent;\n",
              "      border-right-color: var(--fill-color);\n",
              "    }\n",
              "    80% {\n",
              "      border-color: transparent;\n",
              "      border-right-color: var(--fill-color);\n",
              "      border-bottom-color: var(--fill-color);\n",
              "    }\n",
              "    90% {\n",
              "      border-color: transparent;\n",
              "      border-bottom-color: var(--fill-color);\n",
              "    }\n",
              "  }\n",
              "</style>\n",
              "\n",
              "  <script>\n",
              "    async function quickchart(key) {\n",
              "      const quickchartButtonEl =\n",
              "        document.querySelector('#' + key + ' button');\n",
              "      quickchartButtonEl.disabled = true;  // To prevent multiple clicks.\n",
              "      quickchartButtonEl.classList.add('colab-df-spinner');\n",
              "      try {\n",
              "        const charts = await google.colab.kernel.invokeFunction(\n",
              "            'suggestCharts', [key], {});\n",
              "      } catch (error) {\n",
              "        console.error('Error during call to suggestCharts:', error);\n",
              "      }\n",
              "      quickchartButtonEl.classList.remove('colab-df-spinner');\n",
              "      quickchartButtonEl.classList.add('colab-df-quickchart-complete');\n",
              "    }\n",
              "    (() => {\n",
              "      let quickchartButtonEl =\n",
              "        document.querySelector('#df-4e3fe4ad-5396-4f1a-9c58-3c8fd0e814d0 button');\n",
              "      quickchartButtonEl.style.display =\n",
              "        google.colab.kernel.accessAllowed ? 'block' : 'none';\n",
              "    })();\n",
              "  </script>\n",
              "</div>\n",
              "    </div>\n",
              "  </div>\n"
            ]
          },
          "metadata": {},
          "execution_count": 61
        }
      ]
    },
    {
      "cell_type": "code",
      "source": [
        "dataset.isnull().sum()"
      ],
      "metadata": {
        "colab": {
          "base_uri": "https://localhost:8080/"
        },
        "id": "jU0jw-sKJ0Fv",
        "outputId": "28de8c08-b9fc-49de-a1dd-b16bafd4ada2"
      },
      "execution_count": 62,
      "outputs": [
        {
          "output_type": "execute_result",
          "data": {
            "text/plain": [
              "Date      0\n",
              "Open      0\n",
              "High      0\n",
              "Low       0\n",
              "Close     0\n",
              "Volume    0\n",
              "Name      0\n",
              "dtype: int64"
            ]
          },
          "metadata": {},
          "execution_count": 62
        }
      ]
    },
    {
      "cell_type": "code",
      "source": [
        "dates = dataset['Date'].values\n",
        "selling = dataset['High'].values\n",
        "\n",
        "plt.figure(figsize=(15,5))\n",
        "plt.plot(dates, selling)\n",
        "plt.title('Selling Average',\n",
        "          fontsize=20);"
      ],
      "metadata": {
        "colab": {
          "base_uri": "https://localhost:8080/",
          "height": 369
        },
        "id": "7_77rBpvJ71L",
        "outputId": "a857b8ed-2975-45b9-d5c1-a737b965a472"
      },
      "execution_count": 63,
      "outputs": [
        {
          "output_type": "display_data",
          "data": {
            "text/plain": [
              "<Figure size 1500x500 with 1 Axes>"
            ],
            "image/png": "[encoded data removed]"
          },
          "metadata": {}
        }
      ]
    },
    {
      "cell_type": "code",
      "source": [
        "dataset['Date'] = pd.to_datetime(dataset['Date'])\n",
        "dataset = dataset.set_index('Date')"
      ],
      "metadata": {
        "id": "Pc4Sw9TzK3Zt"
      },
      "execution_count": 64,
      "outputs": []
    },
    {
      "cell_type": "code",
      "source": [
        "selling = selling.reshape(-1,1)\n",
        "selling"
      ],
      "metadata": {
        "colab": {
          "base_uri": "https://localhost:8080/"
        },
        "id": "4FSWckwqLDwP",
        "outputId": "d377ccdf-0512-4945-9e90-9af244548b02"
      },
      "execution_count": 65,
      "outputs": [
        {
          "output_type": "execute_result",
          "data": {
            "text/plain": [
              "array([[  47.85],\n",
              "       [  47.73],\n",
              "       [  48.2 ],\n",
              "       ...,\n",
              "       [1187.29],\n",
              "       [1190.1 ],\n",
              "       [1184.  ]])"
            ]
          },
          "metadata": {},
          "execution_count": 65
        }
      ]
    },
    {
      "cell_type": "code",
      "source": [
        "scaler = MinMaxScaler()\n",
        "selling = scaler.fit_transform(selling)"
      ],
      "metadata": {
        "id": "JMarQtQoLK5X"
      },
      "execution_count": 66,
      "outputs": []
    },
    {
      "cell_type": "code",
      "source": [
        "X_train, X_test, y_train, y_test = train_test_split(selling, dates,\n",
        "                                                    test_size=0.2,\n",
        "                                                    shuffle=False)"
      ],
      "metadata": {
        "id": "a3FXeyckLR26"
      },
      "execution_count": 67,
      "outputs": []
    },
    {
      "cell_type": "code",
      "source": [
        "print('Total Data Train : ',len(X_train))\n",
        "print('Total Data Validation : ',len(X_test))"
      ],
      "metadata": {
        "colab": {
          "base_uri": "https://localhost:8080/"
        },
        "id": "-QzIQHTrEztx",
        "outputId": "52f28acc-c5cb-4404-a720-e1b3a8e4a4cd"
      },
      "execution_count": 68,
      "outputs": [
        {
          "output_type": "stream",
          "name": "stdout",
          "text": [
            "Total Data Train :  2415\n",
            "Total Data Validation :  604\n"
          ]
        }
      ]
    },
    {
      "cell_type": "code",
      "source": [
        "def windowed_dataset(series, window_size, batch_size, shuffle_buffer):\n",
        "    series = tf.expand_dims(series, axis=-1)\n",
        "    ds = tf.data.Dataset.from_tensor_slices(series)\n",
        "    ds = ds.window(window_size + 1, shift=1, drop_remainder=True)\n",
        "    ds = ds.flat_map(lambda w: w.batch(window_size + 1))\n",
        "    ds = ds.shuffle(shuffle_buffer)\n",
        "    ds = ds.map(lambda w: (w[:-1], w[-1:]))\n",
        "    return ds.batch(batch_size).prefetch(1)"
      ],
      "metadata": {
        "id": "b8oU67VcLZQY"
      },
      "execution_count": 69,
      "outputs": []
    },
    {
      "cell_type": "code",
      "source": [
        "train_set = windowed_dataset(X_train, window_size=60, batch_size=64, shuffle_buffer=1000)\n",
        "test_set  = windowed_dataset(X_test, window_size=128, batch_size=64, shuffle_buffer=1000)"
      ],
      "metadata": {
        "id": "TKKCg3lcLcSe"
      },
      "execution_count": 70,
      "outputs": []
    },
    {
      "cell_type": "code",
      "source": [
        "model = tf.keras.models.Sequential([\n",
        "  tf.keras.layers.LSTM(50, return_sequences=True, input_shape = [None, 1]),\n",
        "  tf.keras.layers.LSTM(50),\n",
        "  tf.keras.layers.Dense(30, activation=\"relu\"),\n",
        "  tf.keras.layers.Dense(10, activation=\"relu\"),\n",
        "  tf.keras.layers.Dense(1),\n",
        "])"
      ],
      "metadata": {
        "id": "84gL-0vwLhXO"
      },
      "execution_count": 71,
      "outputs": []
    },
    {
      "cell_type": "code",
      "source": [
        "threshold_mae = (selling.max() - selling.min()) * 10/100\n",
        "print(threshold_mae)"
      ],
      "metadata": {
        "id": "FJoXYf-0L2ea",
        "colab": {
          "base_uri": "https://localhost:8080/"
        },
        "outputId": "4a555c5e-3675-460d-98d8-378d18cf5a15"
      },
      "execution_count": 72,
      "outputs": [
        {
          "output_type": "stream",
          "name": "stdout",
          "text": [
            "0.1\n"
          ]
        }
      ]
    },
    {
      "cell_type": "code",
      "source": [
        "class myCallback(tf.keras.callbacks.Callback):\n",
        "  def __init__(self, min_epochs=10):\n",
        "    self.min_epochs = min_epochs\n",
        "    self.epochs_passed = 0\n",
        "\n",
        "  def on_epoch_end(self, epoch, logs={}):\n",
        "    self.epochs_passed += 1\n",
        "\n",
        "    if self.epochs_passed >= self.min_epochs and logs.get('mae') < threshold_mae:\n",
        "      print(f\"MAE < 10% after {self.epochs_passed} epochs.\")\n",
        "      self.model.stop_training = True\n",
        "\n",
        "callbacks = myCallback(min_epochs=20)"
      ],
      "metadata": {
        "id": "FUdFGVpuMACS"
      },
      "execution_count": 77,
      "outputs": []
    },
    {
      "cell_type": "code",
      "source": [
        "optimizer = tf.keras.optimizers.SGD(lr=1.0000e-04, momentum=0.9)\n",
        "model.compile(loss=tf.keras.losses.Huber(),\n",
        "              optimizer=optimizer,\n",
        "              metrics=[\"mae\"])\n",
        "\n",
        "history = model.fit(train_set,\n",
        "                    epochs=100,\n",
        "                    validation_data=test_set,\n",
        "                    verbose=2,\n",
        "                    callbacks=[callbacks])"
      ],
      "metadata": {
        "colab": {
          "base_uri": "https://localhost:8080/"
        },
        "id": "DnxMRWKlMEqS",
        "outputId": "a065495a-2328-4282-aef8-b878d1450da9"
      },
      "execution_count": 78,
      "outputs": [
        {
          "output_type": "stream",
          "name": "stderr",
          "text": [
            "WARNING:absl:`lr` is deprecated in Keras optimizer, please use `learning_rate` or use the legacy optimizer, e.g.,tf.keras.optimizers.legacy.SGD.\n"
          ]
        },
        {
          "output_type": "stream",
          "name": "stdout",
          "text": [
            "Epoch 1/100\n",
            "37/37 - 10s - loss: 0.0069 - mae: 0.0982 - val_loss: 0.0965 - val_mae: 0.4162 - 10s/epoch - 276ms/step\n",
            "Epoch 2/100\n",
            "37/37 - 1s - loss: 0.0070 - mae: 0.0990 - val_loss: 0.0984 - val_mae: 0.4208 - 1s/epoch - 29ms/step\n",
            "Epoch 3/100\n",
            "37/37 - 1s - loss: 0.0068 - mae: 0.0984 - val_loss: 0.0971 - val_mae: 0.4177 - 786ms/epoch - 21ms/step\n",
            "Epoch 4/100\n",
            "37/37 - 1s - loss: 0.0068 - mae: 0.0984 - val_loss: 0.0975 - val_mae: 0.4185 - 754ms/epoch - 20ms/step\n",
            "Epoch 5/100\n",
            "37/37 - 1s - loss: 0.0067 - mae: 0.0977 - val_loss: 0.0987 - val_mae: 0.4213 - 749ms/epoch - 20ms/step\n",
            "Epoch 6/100\n",
            "37/37 - 1s - loss: 0.0067 - mae: 0.0978 - val_loss: 0.0960 - val_mae: 0.4150 - 919ms/epoch - 25ms/step\n",
            "Epoch 7/100\n",
            "37/37 - 1s - loss: 0.0068 - mae: 0.0988 - val_loss: 0.0986 - val_mae: 0.4212 - 784ms/epoch - 21ms/step\n",
            "Epoch 8/100\n",
            "37/37 - 1s - loss: 0.0066 - mae: 0.0975 - val_loss: 0.0990 - val_mae: 0.4222 - 933ms/epoch - 25ms/step\n",
            "Epoch 9/100\n",
            "37/37 - 1s - loss: 0.0065 - mae: 0.0958 - val_loss: 0.0973 - val_mae: 0.4180 - 792ms/epoch - 21ms/step\n",
            "Epoch 10/100\n",
            "37/37 - 1s - loss: 0.0067 - mae: 0.0986 - val_loss: 0.0975 - val_mae: 0.4186 - 900ms/epoch - 24ms/step\n",
            "Epoch 11/100\n",
            "37/37 - 1s - loss: 0.0065 - mae: 0.0967 - val_loss: 0.0990 - val_mae: 0.4220 - 755ms/epoch - 20ms/step\n",
            "Epoch 12/100\n",
            "37/37 - 1s - loss: 0.0065 - mae: 0.0973 - val_loss: 0.0991 - val_mae: 0.4224 - 745ms/epoch - 20ms/step\n",
            "Epoch 13/100\n",
            "37/37 - 1s - loss: 0.0063 - mae: 0.0954 - val_loss: 0.0976 - val_mae: 0.4187 - 1s/epoch - 28ms/step\n",
            "Epoch 14/100\n",
            "37/37 - 1s - loss: 0.0066 - mae: 0.0978 - val_loss: 0.0984 - val_mae: 0.4207 - 1s/epoch - 38ms/step\n",
            "Epoch 15/100\n",
            "37/37 - 1s - loss: 0.0063 - mae: 0.0958 - val_loss: 0.0985 - val_mae: 0.4208 - 748ms/epoch - 20ms/step\n",
            "Epoch 16/100\n",
            "37/37 - 1s - loss: 0.0063 - mae: 0.0968 - val_loss: 0.0997 - val_mae: 0.4237 - 740ms/epoch - 20ms/step\n",
            "Epoch 17/100\n",
            "37/37 - 1s - loss: 0.0063 - mae: 0.0956 - val_loss: 0.0983 - val_mae: 0.4204 - 782ms/epoch - 21ms/step\n",
            "Epoch 18/100\n",
            "37/37 - 1s - loss: 0.0062 - mae: 0.0953 - val_loss: 0.0976 - val_mae: 0.4187 - 785ms/epoch - 21ms/step\n",
            "Epoch 19/100\n",
            "37/37 - 1s - loss: 0.0064 - mae: 0.0966 - val_loss: 0.0995 - val_mae: 0.4233 - 754ms/epoch - 20ms/step\n",
            "Epoch 20/100\n",
            "MAE < 10% after 20 epochs.\n",
            "37/37 - 1s - loss: 0.0062 - mae: 0.0954 - val_loss: 0.0984 - val_mae: 0.4207 - 773ms/epoch - 21ms/step\n"
          ]
        }
      ]
    },
    {
      "cell_type": "code",
      "source": [
        "plt.figure(figsize=(10, 6))\n",
        "plt.plot(history.history['mae'], label='Training MAE')\n",
        "plt.plot(history.history['val_mae'], label='Validation MAE')\n",
        "plt.title('Training and Validation MAE')\n",
        "plt.xlabel('Epoch')\n",
        "plt.ylabel('MAE')\n",
        "plt.legend()\n",
        "plt.show()"
      ],
      "metadata": {
        "colab": {
          "base_uri": "https://localhost:8080/",
          "height": 564
        },
        "id": "bq7xX_oOM4-S",
        "outputId": "95fc4202-c1c2-45a4-dea0-30ec35d34ba5"
      },
      "execution_count": 79,
      "outputs": [
        {
          "output_type": "display_data",
          "data": {
            "text/plain": [
              "<Figure size 1000x600 with 1 Axes>"
            ],
            "image/png": "[encoded data removed]"
          },
          "metadata": {}
        }
      ]
    },
    {
      "cell_type": "code",
      "source": [
        "plt.figure(figsize=(10, 6))\n",
        "plt.plot(history.history['loss'], label='Training Loss')\n",
        "plt.plot(history.history['val_loss'], label='Validation Loss')\n",
        "plt.title('Training and Validation Loss')\n",
        "plt.xlabel('Epoch')\n",
        "plt.ylabel('Loss')\n",
        "plt.legend()\n",
        "plt.show()"
      ],
      "metadata": {
        "colab": {
          "base_uri": "https://localhost:8080/",
          "height": 564
        },
        "id": "cZX8epX5NFML",
        "outputId": "8f9fcb16-fbcd-4559-bd88-9dc2eb9d8ab2"
      },
      "execution_count": 76,
      "outputs": [
        {
          "output_type": "display_data",
          "data": {
            "text/plain": [
              "<Figure size 1000x600 with 1 Axes>"
            ],
            "image/png": "[encoded data removed]"
          },
          "metadata": {}
        }
      ]
    }
  ]
}